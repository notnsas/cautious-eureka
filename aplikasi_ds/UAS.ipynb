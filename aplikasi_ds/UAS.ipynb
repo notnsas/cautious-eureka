{
  "nbformat": 4,
  "nbformat_minor": 0,
  "metadata": {
    "colab": {
      "provenance": [],
      "authorship_tag": "ABX9TyNQ1Syr9NfqE218RVhN328/",
      "include_colab_link": true
    },
    "kernelspec": {
      "name": "python3",
      "display_name": "Python 3"
    },
    "language_info": {
      "name": "python"
    }
  },
  "cells": [
    {
      "cell_type": "markdown",
      "metadata": {
        "id": "view-in-github",
        "colab_type": "text"
      },
      "source": [
        "<a href=\"https://colab.research.google.com/github/notnsas/cautious-eureka/blob/main/aplikasi_ds/UAS.ipynb\" target=\"_parent\"><img src=\"https://colab.research.google.com/assets/colab-badge.svg\" alt=\"Open In Colab\"/></a>"
      ]
    },
    {
      "cell_type": "markdown",
      "source": [
        "## **NO 1**"
      ],
      "metadata": {
        "id": "yilkxQmYzQZN"
      }
    },
    {
      "cell_type": "code",
      "execution_count": 1241,
      "metadata": {
        "id": "JMzLTgAFlZzX"
      },
      "outputs": [],
      "source": [
        "# Manipulasi data\n",
        "import pandas as pd\n",
        "import numpy as np\n",
        "\n",
        "# Kaggle Hub buat import dataset\n",
        "import kagglehub\n",
        "from kagglehub import KaggleDatasetAdapter\n",
        "\n",
        "# Visualisasi Data\n",
        "import seaborn as sns\n",
        "import matplotlib.pyplot as plt\n",
        "\n",
        "# Preprocessing\n",
        "from sklearn.preprocessing import StandardScaler, OneHotEncoder\n",
        "\n",
        "# Pemodelan dan Evaluasi\n",
        "from sklearn.model_selection import train_test_split, GridSearchCV\n",
        "from sklearn.neighbors import KNeighborsRegressor\n",
        "from sklearn.metrics import mean_absolute_error, r2_score\n",
        "from sklearn.linear_model import LinearRegression\n",
        "from sklearn.tree import DecisionTreeRegressor\n",
        "from sklearn.ensemble import RandomForestRegressor"
      ]
    },
    {
      "cell_type": "code",
      "source": [
        "# Install dependencies as needed:\n",
        "# pip install kagglehub[pandas-datasets]\n",
        "\n",
        "\n",
        "# Set the path to the file you'd like to load\n",
        "# file_path = \"DATA RUMAH.xlsx\"\n",
        "file_path = \"HARGA RUMAH JAKSEL.xlsx\"\n",
        "\n",
        "# Load the latest version\n",
        "df = kagglehub.load_dataset(\n",
        "  KaggleDatasetAdapter.PANDAS,\n",
        "  \"wisnuanggara/daftar-harga-rumah\",\n",
        "  file_path,\n",
        "  # Provide any additional arguments like\n",
        "  # sql_query or pandas_kwargs. See the\n",
        "  # documenation for more information:\n",
        "  # https://github.com/Kaggle/kagglehub/blob/main/README.md#kaggledatasetadapterpandas\n",
        ")"
      ],
      "metadata": {
        "id": "WUEChSlzocBY",
        "colab": {
          "base_uri": "https://localhost:8080/"
        },
        "outputId": "8cdbc7b7-244b-49b1-de91-6d72832f8607"
      },
      "execution_count": 1242,
      "outputs": [
        {
          "output_type": "stream",
          "name": "stderr",
          "text": [
            "/tmp/ipython-input-1242-2058605452.py:10: DeprecationWarning: load_dataset is deprecated and will be removed in a future version.\n",
            "  df = kagglehub.load_dataset(\n"
          ]
        }
      ]
    },
    {
      "cell_type": "code",
      "source": [
        "# Agar data tidak terpotong\n",
        "pd.set_option('display.max_colwidth', None)\n",
        "\n",
        "# Mengganti nama kolom dari unnamed ke nama kolom yang benar\n",
        "df.columns = df.iloc[0]\n",
        "\n",
        "# Menghapus row yang salah\n",
        "df = df.drop(0, axis=0).reset_index(drop=True)\n",
        "\n",
        "# Liat data teratas\n",
        "df.head(15)"
      ],
      "metadata": {
        "colab": {
          "base_uri": "https://localhost:8080/",
          "height": 520
        },
        "id": "8aypwnc3ofQG",
        "outputId": "184d80d2-7f33-4423-d256-7cc922a7bd77"
      },
      "execution_count": 1243,
      "outputs": [
        {
          "output_type": "execute_result",
          "data": {
            "text/plain": [
              "0         HARGA    LT   LB JKT JKM        GRS    KOTA\n",
              "0   28000000000  1100  700   5   6        ADA  JAKSEL\n",
              "1   19000000000   824  800   4   4        ADA  JAKSEL\n",
              "2    4700000000   500  400   4   3        ADA  JAKSEL\n",
              "3    4900000000   251  300   5   4        ADA  JAKSEL\n",
              "4   28000000000  1340  575   4   5        ADA  JAKSEL\n",
              "5   10000000000   460  300   4   4        ADA  JAKSEL\n",
              "6    7600000000   278  350   4   4        ADA  JAKSEL\n",
              "7    5250000000   511  300   3   2        ADA  JAKSEL\n",
              "8     670000000    70   69   3   2  TIDAK ADA  JAKSEL\n",
              "9     480000000    66   42   2   1  TIDAK ADA  JAKSEL\n",
              "10  10700000000   449  500   6   7        ADA  JAKSEL\n",
              "11   4200000000   109  188   2   3        ADA  JAKSEL\n",
              "12   8500000000   320  250   4   4        ADA  JAKSEL\n",
              "13   7000000000   384  400   4   4        ADA  JAKSEL\n",
              "14  20000000000   462  645   5   6        ADA  JAKSEL"
            ],
            "text/html": [
              "\n",
              "  <div id=\"df-a8368d40-7d74-4a9e-92c8-bf36df3332af\" class=\"colab-df-container\">\n",
              "    <div>\n",
              "<style scoped>\n",
              "    .dataframe tbody tr th:only-of-type {\n",
              "        vertical-align: middle;\n",
              "    }\n",
              "\n",
              "    .dataframe tbody tr th {\n",
              "        vertical-align: top;\n",
              "    }\n",
              "\n",
              "    .dataframe thead th {\n",
              "        text-align: right;\n",
              "    }\n",
              "</style>\n",
              "<table border=\"1\" class=\"dataframe\">\n",
              "  <thead>\n",
              "    <tr style=\"text-align: right;\">\n",
              "      <th></th>\n",
              "      <th>HARGA</th>\n",
              "      <th>LT</th>\n",
              "      <th>LB</th>\n",
              "      <th>JKT</th>\n",
              "      <th>JKM</th>\n",
              "      <th>GRS</th>\n",
              "      <th>KOTA</th>\n",
              "    </tr>\n",
              "  </thead>\n",
              "  <tbody>\n",
              "    <tr>\n",
              "      <th>0</th>\n",
              "      <td>28000000000</td>\n",
              "      <td>1100</td>\n",
              "      <td>700</td>\n",
              "      <td>5</td>\n",
              "      <td>6</td>\n",
              "      <td>ADA</td>\n",
              "      <td>JAKSEL</td>\n",
              "    </tr>\n",
              "    <tr>\n",
              "      <th>1</th>\n",
              "      <td>19000000000</td>\n",
              "      <td>824</td>\n",
              "      <td>800</td>\n",
              "      <td>4</td>\n",
              "      <td>4</td>\n",
              "      <td>ADA</td>\n",
              "      <td>JAKSEL</td>\n",
              "    </tr>\n",
              "    <tr>\n",
              "      <th>2</th>\n",
              "      <td>4700000000</td>\n",
              "      <td>500</td>\n",
              "      <td>400</td>\n",
              "      <td>4</td>\n",
              "      <td>3</td>\n",
              "      <td>ADA</td>\n",
              "      <td>JAKSEL</td>\n",
              "    </tr>\n",
              "    <tr>\n",
              "      <th>3</th>\n",
              "      <td>4900000000</td>\n",
              "      <td>251</td>\n",
              "      <td>300</td>\n",
              "      <td>5</td>\n",
              "      <td>4</td>\n",
              "      <td>ADA</td>\n",
              "      <td>JAKSEL</td>\n",
              "    </tr>\n",
              "    <tr>\n",
              "      <th>4</th>\n",
              "      <td>28000000000</td>\n",
              "      <td>1340</td>\n",
              "      <td>575</td>\n",
              "      <td>4</td>\n",
              "      <td>5</td>\n",
              "      <td>ADA</td>\n",
              "      <td>JAKSEL</td>\n",
              "    </tr>\n",
              "    <tr>\n",
              "      <th>5</th>\n",
              "      <td>10000000000</td>\n",
              "      <td>460</td>\n",
              "      <td>300</td>\n",
              "      <td>4</td>\n",
              "      <td>4</td>\n",
              "      <td>ADA</td>\n",
              "      <td>JAKSEL</td>\n",
              "    </tr>\n",
              "    <tr>\n",
              "      <th>6</th>\n",
              "      <td>7600000000</td>\n",
              "      <td>278</td>\n",
              "      <td>350</td>\n",
              "      <td>4</td>\n",
              "      <td>4</td>\n",
              "      <td>ADA</td>\n",
              "      <td>JAKSEL</td>\n",
              "    </tr>\n",
              "    <tr>\n",
              "      <th>7</th>\n",
              "      <td>5250000000</td>\n",
              "      <td>511</td>\n",
              "      <td>300</td>\n",
              "      <td>3</td>\n",
              "      <td>2</td>\n",
              "      <td>ADA</td>\n",
              "      <td>JAKSEL</td>\n",
              "    </tr>\n",
              "    <tr>\n",
              "      <th>8</th>\n",
              "      <td>670000000</td>\n",
              "      <td>70</td>\n",
              "      <td>69</td>\n",
              "      <td>3</td>\n",
              "      <td>2</td>\n",
              "      <td>TIDAK ADA</td>\n",
              "      <td>JAKSEL</td>\n",
              "    </tr>\n",
              "    <tr>\n",
              "      <th>9</th>\n",
              "      <td>480000000</td>\n",
              "      <td>66</td>\n",
              "      <td>42</td>\n",
              "      <td>2</td>\n",
              "      <td>1</td>\n",
              "      <td>TIDAK ADA</td>\n",
              "      <td>JAKSEL</td>\n",
              "    </tr>\n",
              "    <tr>\n",
              "      <th>10</th>\n",
              "      <td>10700000000</td>\n",
              "      <td>449</td>\n",
              "      <td>500</td>\n",
              "      <td>6</td>\n",
              "      <td>7</td>\n",
              "      <td>ADA</td>\n",
              "      <td>JAKSEL</td>\n",
              "    </tr>\n",
              "    <tr>\n",
              "      <th>11</th>\n",
              "      <td>4200000000</td>\n",
              "      <td>109</td>\n",
              "      <td>188</td>\n",
              "      <td>2</td>\n",
              "      <td>3</td>\n",
              "      <td>ADA</td>\n",
              "      <td>JAKSEL</td>\n",
              "    </tr>\n",
              "    <tr>\n",
              "      <th>12</th>\n",
              "      <td>8500000000</td>\n",
              "      <td>320</td>\n",
              "      <td>250</td>\n",
              "      <td>4</td>\n",
              "      <td>4</td>\n",
              "      <td>ADA</td>\n",
              "      <td>JAKSEL</td>\n",
              "    </tr>\n",
              "    <tr>\n",
              "      <th>13</th>\n",
              "      <td>7000000000</td>\n",
              "      <td>384</td>\n",
              "      <td>400</td>\n",
              "      <td>4</td>\n",
              "      <td>4</td>\n",
              "      <td>ADA</td>\n",
              "      <td>JAKSEL</td>\n",
              "    </tr>\n",
              "    <tr>\n",
              "      <th>14</th>\n",
              "      <td>20000000000</td>\n",
              "      <td>462</td>\n",
              "      <td>645</td>\n",
              "      <td>5</td>\n",
              "      <td>6</td>\n",
              "      <td>ADA</td>\n",
              "      <td>JAKSEL</td>\n",
              "    </tr>\n",
              "  </tbody>\n",
              "</table>\n",
              "</div>\n",
              "    <div class=\"colab-df-buttons\">\n",
              "\n",
              "  <div class=\"colab-df-container\">\n",
              "    <button class=\"colab-df-convert\" onclick=\"convertToInteractive('df-a8368d40-7d74-4a9e-92c8-bf36df3332af')\"\n",
              "            title=\"Convert this dataframe to an interactive table.\"\n",
              "            style=\"display:none;\">\n",
              "\n",
              "  <svg xmlns=\"http://www.w3.org/2000/svg\" height=\"24px\" viewBox=\"0 -960 960 960\">\n",
              "    <path d=\"M120-120v-720h720v720H120Zm60-500h600v-160H180v160Zm220 220h160v-160H400v160Zm0 220h160v-160H400v160ZM180-400h160v-160H180v160Zm440 0h160v-160H620v160ZM180-180h160v-160H180v160Zm440 0h160v-160H620v160Z\"/>\n",
              "  </svg>\n",
              "    </button>\n",
              "\n",
              "  <style>\n",
              "    .colab-df-container {\n",
              "      display:flex;\n",
              "      gap: 12px;\n",
              "    }\n",
              "\n",
              "    .colab-df-convert {\n",
              "      background-color: #E8F0FE;\n",
              "      border: none;\n",
              "      border-radius: 50%;\n",
              "      cursor: pointer;\n",
              "      display: none;\n",
              "      fill: #1967D2;\n",
              "      height: 32px;\n",
              "      padding: 0 0 0 0;\n",
              "      width: 32px;\n",
              "    }\n",
              "\n",
              "    .colab-df-convert:hover {\n",
              "      background-color: #E2EBFA;\n",
              "      box-shadow: 0px 1px 2px rgba(60, 64, 67, 0.3), 0px 1px 3px 1px rgba(60, 64, 67, 0.15);\n",
              "      fill: #174EA6;\n",
              "    }\n",
              "\n",
              "    .colab-df-buttons div {\n",
              "      margin-bottom: 4px;\n",
              "    }\n",
              "\n",
              "    [theme=dark] .colab-df-convert {\n",
              "      background-color: #3B4455;\n",
              "      fill: #D2E3FC;\n",
              "    }\n",
              "\n",
              "    [theme=dark] .colab-df-convert:hover {\n",
              "      background-color: #434B5C;\n",
              "      box-shadow: 0px 1px 3px 1px rgba(0, 0, 0, 0.15);\n",
              "      filter: drop-shadow(0px 1px 2px rgba(0, 0, 0, 0.3));\n",
              "      fill: #FFFFFF;\n",
              "    }\n",
              "  </style>\n",
              "\n",
              "    <script>\n",
              "      const buttonEl =\n",
              "        document.querySelector('#df-a8368d40-7d74-4a9e-92c8-bf36df3332af button.colab-df-convert');\n",
              "      buttonEl.style.display =\n",
              "        google.colab.kernel.accessAllowed ? 'block' : 'none';\n",
              "\n",
              "      async function convertToInteractive(key) {\n",
              "        const element = document.querySelector('#df-a8368d40-7d74-4a9e-92c8-bf36df3332af');\n",
              "        const dataTable =\n",
              "          await google.colab.kernel.invokeFunction('convertToInteractive',\n",
              "                                                    [key], {});\n",
              "        if (!dataTable) return;\n",
              "\n",
              "        const docLinkHtml = 'Like what you see? Visit the ' +\n",
              "          '<a target=\"_blank\" href=https://colab.research.google.com/notebooks/data_table.ipynb>data table notebook</a>'\n",
              "          + ' to learn more about interactive tables.';\n",
              "        element.innerHTML = '';\n",
              "        dataTable['output_type'] = 'display_data';\n",
              "        await google.colab.output.renderOutput(dataTable, element);\n",
              "        const docLink = document.createElement('div');\n",
              "        docLink.innerHTML = docLinkHtml;\n",
              "        element.appendChild(docLink);\n",
              "      }\n",
              "    </script>\n",
              "  </div>\n",
              "\n",
              "\n",
              "    <div id=\"df-9248e37f-de5e-4344-84f5-3eb6d684684b\">\n",
              "      <button class=\"colab-df-quickchart\" onclick=\"quickchart('df-9248e37f-de5e-4344-84f5-3eb6d684684b')\"\n",
              "                title=\"Suggest charts\"\n",
              "                style=\"display:none;\">\n",
              "\n",
              "<svg xmlns=\"http://www.w3.org/2000/svg\" height=\"24px\"viewBox=\"0 0 24 24\"\n",
              "     width=\"24px\">\n",
              "    <g>\n",
              "        <path d=\"M19 3H5c-1.1 0-2 .9-2 2v14c0 1.1.9 2 2 2h14c1.1 0 2-.9 2-2V5c0-1.1-.9-2-2-2zM9 17H7v-7h2v7zm4 0h-2V7h2v10zm4 0h-2v-4h2v4z\"/>\n",
              "    </g>\n",
              "</svg>\n",
              "      </button>\n",
              "\n",
              "<style>\n",
              "  .colab-df-quickchart {\n",
              "      --bg-color: #E8F0FE;\n",
              "      --fill-color: #1967D2;\n",
              "      --hover-bg-color: #E2EBFA;\n",
              "      --hover-fill-color: #174EA6;\n",
              "      --disabled-fill-color: #AAA;\n",
              "      --disabled-bg-color: #DDD;\n",
              "  }\n",
              "\n",
              "  [theme=dark] .colab-df-quickchart {\n",
              "      --bg-color: #3B4455;\n",
              "      --fill-color: #D2E3FC;\n",
              "      --hover-bg-color: #434B5C;\n",
              "      --hover-fill-color: #FFFFFF;\n",
              "      --disabled-bg-color: #3B4455;\n",
              "      --disabled-fill-color: #666;\n",
              "  }\n",
              "\n",
              "  .colab-df-quickchart {\n",
              "    background-color: var(--bg-color);\n",
              "    border: none;\n",
              "    border-radius: 50%;\n",
              "    cursor: pointer;\n",
              "    display: none;\n",
              "    fill: var(--fill-color);\n",
              "    height: 32px;\n",
              "    padding: 0;\n",
              "    width: 32px;\n",
              "  }\n",
              "\n",
              "  .colab-df-quickchart:hover {\n",
              "    background-color: var(--hover-bg-color);\n",
              "    box-shadow: 0 1px 2px rgba(60, 64, 67, 0.3), 0 1px 3px 1px rgba(60, 64, 67, 0.15);\n",
              "    fill: var(--button-hover-fill-color);\n",
              "  }\n",
              "\n",
              "  .colab-df-quickchart-complete:disabled,\n",
              "  .colab-df-quickchart-complete:disabled:hover {\n",
              "    background-color: var(--disabled-bg-color);\n",
              "    fill: var(--disabled-fill-color);\n",
              "    box-shadow: none;\n",
              "  }\n",
              "\n",
              "  .colab-df-spinner {\n",
              "    border: 2px solid var(--fill-color);\n",
              "    border-color: transparent;\n",
              "    border-bottom-color: var(--fill-color);\n",
              "    animation:\n",
              "      spin 1s steps(1) infinite;\n",
              "  }\n",
              "\n",
              "  @keyframes spin {\n",
              "    0% {\n",
              "      border-color: transparent;\n",
              "      border-bottom-color: var(--fill-color);\n",
              "      border-left-color: var(--fill-color);\n",
              "    }\n",
              "    20% {\n",
              "      border-color: transparent;\n",
              "      border-left-color: var(--fill-color);\n",
              "      border-top-color: var(--fill-color);\n",
              "    }\n",
              "    30% {\n",
              "      border-color: transparent;\n",
              "      border-left-color: var(--fill-color);\n",
              "      border-top-color: var(--fill-color);\n",
              "      border-right-color: var(--fill-color);\n",
              "    }\n",
              "    40% {\n",
              "      border-color: transparent;\n",
              "      border-right-color: var(--fill-color);\n",
              "      border-top-color: var(--fill-color);\n",
              "    }\n",
              "    60% {\n",
              "      border-color: transparent;\n",
              "      border-right-color: var(--fill-color);\n",
              "    }\n",
              "    80% {\n",
              "      border-color: transparent;\n",
              "      border-right-color: var(--fill-color);\n",
              "      border-bottom-color: var(--fill-color);\n",
              "    }\n",
              "    90% {\n",
              "      border-color: transparent;\n",
              "      border-bottom-color: var(--fill-color);\n",
              "    }\n",
              "  }\n",
              "</style>\n",
              "\n",
              "      <script>\n",
              "        async function quickchart(key) {\n",
              "          const quickchartButtonEl =\n",
              "            document.querySelector('#' + key + ' button');\n",
              "          quickchartButtonEl.disabled = true;  // To prevent multiple clicks.\n",
              "          quickchartButtonEl.classList.add('colab-df-spinner');\n",
              "          try {\n",
              "            const charts = await google.colab.kernel.invokeFunction(\n",
              "                'suggestCharts', [key], {});\n",
              "          } catch (error) {\n",
              "            console.error('Error during call to suggestCharts:', error);\n",
              "          }\n",
              "          quickchartButtonEl.classList.remove('colab-df-spinner');\n",
              "          quickchartButtonEl.classList.add('colab-df-quickchart-complete');\n",
              "        }\n",
              "        (() => {\n",
              "          let quickchartButtonEl =\n",
              "            document.querySelector('#df-9248e37f-de5e-4344-84f5-3eb6d684684b button');\n",
              "          quickchartButtonEl.style.display =\n",
              "            google.colab.kernel.accessAllowed ? 'block' : 'none';\n",
              "        })();\n",
              "      </script>\n",
              "    </div>\n",
              "\n",
              "    </div>\n",
              "  </div>\n"
            ],
            "application/vnd.google.colaboratory.intrinsic+json": {
              "type": "dataframe",
              "variable_name": "df",
              "summary": "{\n  \"name\": \"df\",\n  \"rows\": 1001,\n  \"fields\": [\n    {\n      \"column\": \"HARGA\",\n      \"properties\": {\n        \"dtype\": \"date\",\n        \"min\": 430000000,\n        \"max\": 250000000000,\n        \"num_unique_values\": 266,\n        \"samples\": [\n          11160000000,\n          13800000000,\n          1350000000\n        ],\n        \"semantic_type\": \"\",\n        \"description\": \"\"\n      }\n    },\n    {\n      \"column\": \"LT\",\n      \"properties\": {\n        \"dtype\": \"date\",\n        \"min\": 22,\n        \"max\": 6790,\n        \"num_unique_values\": 425,\n        \"samples\": [\n          136,\n          350,\n          429\n        ],\n        \"semantic_type\": \"\",\n        \"description\": \"\"\n      }\n    },\n    {\n      \"column\": \"LB\",\n      \"properties\": {\n        \"dtype\": \"date\",\n        \"min\": 38,\n        \"max\": 10000,\n        \"num_unique_values\": 241,\n        \"samples\": [\n          900,\n          69,\n          468\n        ],\n        \"semantic_type\": \"\",\n        \"description\": \"\"\n      }\n    },\n    {\n      \"column\": \"JKT\",\n      \"properties\": {\n        \"dtype\": \"date\",\n        \"min\": 1,\n        \"max\": 27,\n        \"num_unique_values\": 14,\n        \"samples\": [\n          17,\n          1,\n          5\n        ],\n        \"semantic_type\": \"\",\n        \"description\": \"\"\n      }\n    },\n    {\n      \"column\": \"JKM\",\n      \"properties\": {\n        \"dtype\": \"date\",\n        \"min\": 1,\n        \"max\": 27,\n        \"num_unique_values\": 14,\n        \"samples\": [\n          18,\n          21,\n          6\n        ],\n        \"semantic_type\": \"\",\n        \"description\": \"\"\n      }\n    },\n    {\n      \"column\": \"GRS\",\n      \"properties\": {\n        \"dtype\": \"category\",\n        \"num_unique_values\": 2,\n        \"samples\": [\n          \"TIDAK ADA\",\n          \"ADA\"\n        ],\n        \"semantic_type\": \"\",\n        \"description\": \"\"\n      }\n    },\n    {\n      \"column\": \"KOTA\",\n      \"properties\": {\n        \"dtype\": \"category\",\n        \"num_unique_values\": 1,\n        \"samples\": [\n          \"JAKSEL\"\n        ],\n        \"semantic_type\": \"\",\n        \"description\": \"\"\n      }\n    }\n  ]\n}"
            }
          },
          "metadata": {},
          "execution_count": 1243
        }
      ]
    },
    {
      "cell_type": "code",
      "source": [
        "# Informasi dari data (type data, jumlah data yang non-null, dll)\n",
        "df.info()"
      ],
      "metadata": {
        "colab": {
          "base_uri": "https://localhost:8080/"
        },
        "id": "h3du1vCbswG3",
        "outputId": "de109fa4-ce95-4423-d638-7e72540950b1"
      },
      "execution_count": 1244,
      "outputs": [
        {
          "output_type": "stream",
          "name": "stdout",
          "text": [
            "<class 'pandas.core.frame.DataFrame'>\n",
            "RangeIndex: 1001 entries, 0 to 1000\n",
            "Data columns (total 7 columns):\n",
            " #   Column  Non-Null Count  Dtype \n",
            "---  ------  --------------  ----- \n",
            " 0   HARGA   1001 non-null   object\n",
            " 1   LT      1001 non-null   object\n",
            " 2   LB      1001 non-null   object\n",
            " 3   JKT     1001 non-null   object\n",
            " 4   JKM     1001 non-null   object\n",
            " 5   GRS     1001 non-null   object\n",
            " 6   KOTA    1001 non-null   object\n",
            "dtypes: object(7)\n",
            "memory usage: 54.9+ KB\n"
          ]
        }
      ]
    },
    {
      "cell_type": "code",
      "source": [
        "# Mengganti nomor yang masing object\n",
        "df[[\"HARGA\", \"LT\", \"LB\", \"JKT\", \"JKM\"]] = df[[\"HARGA\", \"LT\", \"LB\", \"JKT\", \"JKM\"]].astype(float)\n",
        "\n",
        "# Memastikan type data sudah benar\n",
        "df.info()"
      ],
      "metadata": {
        "colab": {
          "base_uri": "https://localhost:8080/"
        },
        "id": "l0emtloBxQTo",
        "outputId": "2b6a7622-f1b1-4a00-8202-02a9054492fd"
      },
      "execution_count": 1245,
      "outputs": [
        {
          "output_type": "stream",
          "name": "stdout",
          "text": [
            "<class 'pandas.core.frame.DataFrame'>\n",
            "RangeIndex: 1001 entries, 0 to 1000\n",
            "Data columns (total 7 columns):\n",
            " #   Column  Non-Null Count  Dtype  \n",
            "---  ------  --------------  -----  \n",
            " 0   HARGA   1001 non-null   float64\n",
            " 1   LT      1001 non-null   float64\n",
            " 2   LB      1001 non-null   float64\n",
            " 3   JKT     1001 non-null   float64\n",
            " 4   JKM     1001 non-null   float64\n",
            " 5   GRS     1001 non-null   object \n",
            " 6   KOTA    1001 non-null   object \n",
            "dtypes: float64(5), object(2)\n",
            "memory usage: 54.9+ KB\n"
          ]
        }
      ]
    },
    {
      "cell_type": "markdown",
      "source": [
        "## **EDA**"
      ],
      "metadata": {
        "id": "ooBrfFYgsmvw"
      }
    },
    {
      "cell_type": "code",
      "source": [
        "# Ringkasan statistika\n",
        "df.describe().T"
      ],
      "metadata": {
        "colab": {
          "base_uri": "https://localhost:8080/",
          "height": 237
        },
        "id": "_aoT6XqiovmQ",
        "outputId": "eb78f065-7622-44d0-ba4f-e164ac8888fa"
      },
      "execution_count": 1246,
      "outputs": [
        {
          "output_type": "execute_result",
          "data": {
            "text/plain": [
              "        count          mean           std          min           25%  \\\n",
              "0                                                                      \n",
              "HARGA  1001.0  1.747472e+10  2.079548e+10  430000000.0  6.750000e+09   \n",
              "LT     1001.0  5.305045e+02  5.310698e+02         22.0  2.200000e+02   \n",
              "LB     1001.0  4.872757e+02  4.528723e+02         38.0  3.000000e+02   \n",
              "JKT    1001.0  4.457542e+00  2.004606e+00          1.0  4.000000e+00   \n",
              "JKM    1001.0  3.940060e+00  1.903261e+00          1.0  3.000000e+00   \n",
              "\n",
              "                50%           75%           max  \n",
              "0                                                \n",
              "HARGA  1.350000e+10  2.000000e+10  2.500000e+11  \n",
              "LT     4.000000e+02  6.770000e+02  6.790000e+03  \n",
              "LB     4.110000e+02  6.000000e+02  1.000000e+04  \n",
              "JKT    4.000000e+00  5.000000e+00  2.700000e+01  \n",
              "JKM    4.000000e+00  4.000000e+00  2.700000e+01  "
            ],
            "text/html": [
              "\n",
              "  <div id=\"df-fc739064-eb19-4a77-9e98-88b9fb507c13\" class=\"colab-df-container\">\n",
              "    <div>\n",
              "<style scoped>\n",
              "    .dataframe tbody tr th:only-of-type {\n",
              "        vertical-align: middle;\n",
              "    }\n",
              "\n",
              "    .dataframe tbody tr th {\n",
              "        vertical-align: top;\n",
              "    }\n",
              "\n",
              "    .dataframe thead th {\n",
              "        text-align: right;\n",
              "    }\n",
              "</style>\n",
              "<table border=\"1\" class=\"dataframe\">\n",
              "  <thead>\n",
              "    <tr style=\"text-align: right;\">\n",
              "      <th></th>\n",
              "      <th>count</th>\n",
              "      <th>mean</th>\n",
              "      <th>std</th>\n",
              "      <th>min</th>\n",
              "      <th>25%</th>\n",
              "      <th>50%</th>\n",
              "      <th>75%</th>\n",
              "      <th>max</th>\n",
              "    </tr>\n",
              "    <tr>\n",
              "      <th>0</th>\n",
              "      <th></th>\n",
              "      <th></th>\n",
              "      <th></th>\n",
              "      <th></th>\n",
              "      <th></th>\n",
              "      <th></th>\n",
              "      <th></th>\n",
              "      <th></th>\n",
              "    </tr>\n",
              "  </thead>\n",
              "  <tbody>\n",
              "    <tr>\n",
              "      <th>HARGA</th>\n",
              "      <td>1001.0</td>\n",
              "      <td>1.747472e+10</td>\n",
              "      <td>2.079548e+10</td>\n",
              "      <td>430000000.0</td>\n",
              "      <td>6.750000e+09</td>\n",
              "      <td>1.350000e+10</td>\n",
              "      <td>2.000000e+10</td>\n",
              "      <td>2.500000e+11</td>\n",
              "    </tr>\n",
              "    <tr>\n",
              "      <th>LT</th>\n",
              "      <td>1001.0</td>\n",
              "      <td>5.305045e+02</td>\n",
              "      <td>5.310698e+02</td>\n",
              "      <td>22.0</td>\n",
              "      <td>2.200000e+02</td>\n",
              "      <td>4.000000e+02</td>\n",
              "      <td>6.770000e+02</td>\n",
              "      <td>6.790000e+03</td>\n",
              "    </tr>\n",
              "    <tr>\n",
              "      <th>LB</th>\n",
              "      <td>1001.0</td>\n",
              "      <td>4.872757e+02</td>\n",
              "      <td>4.528723e+02</td>\n",
              "      <td>38.0</td>\n",
              "      <td>3.000000e+02</td>\n",
              "      <td>4.110000e+02</td>\n",
              "      <td>6.000000e+02</td>\n",
              "      <td>1.000000e+04</td>\n",
              "    </tr>\n",
              "    <tr>\n",
              "      <th>JKT</th>\n",
              "      <td>1001.0</td>\n",
              "      <td>4.457542e+00</td>\n",
              "      <td>2.004606e+00</td>\n",
              "      <td>1.0</td>\n",
              "      <td>4.000000e+00</td>\n",
              "      <td>4.000000e+00</td>\n",
              "      <td>5.000000e+00</td>\n",
              "      <td>2.700000e+01</td>\n",
              "    </tr>\n",
              "    <tr>\n",
              "      <th>JKM</th>\n",
              "      <td>1001.0</td>\n",
              "      <td>3.940060e+00</td>\n",
              "      <td>1.903261e+00</td>\n",
              "      <td>1.0</td>\n",
              "      <td>3.000000e+00</td>\n",
              "      <td>4.000000e+00</td>\n",
              "      <td>4.000000e+00</td>\n",
              "      <td>2.700000e+01</td>\n",
              "    </tr>\n",
              "  </tbody>\n",
              "</table>\n",
              "</div>\n",
              "    <div class=\"colab-df-buttons\">\n",
              "\n",
              "  <div class=\"colab-df-container\">\n",
              "    <button class=\"colab-df-convert\" onclick=\"convertToInteractive('df-fc739064-eb19-4a77-9e98-88b9fb507c13')\"\n",
              "            title=\"Convert this dataframe to an interactive table.\"\n",
              "            style=\"display:none;\">\n",
              "\n",
              "  <svg xmlns=\"http://www.w3.org/2000/svg\" height=\"24px\" viewBox=\"0 -960 960 960\">\n",
              "    <path d=\"M120-120v-720h720v720H120Zm60-500h600v-160H180v160Zm220 220h160v-160H400v160Zm0 220h160v-160H400v160ZM180-400h160v-160H180v160Zm440 0h160v-160H620v160ZM180-180h160v-160H180v160Zm440 0h160v-160H620v160Z\"/>\n",
              "  </svg>\n",
              "    </button>\n",
              "\n",
              "  <style>\n",
              "    .colab-df-container {\n",
              "      display:flex;\n",
              "      gap: 12px;\n",
              "    }\n",
              "\n",
              "    .colab-df-convert {\n",
              "      background-color: #E8F0FE;\n",
              "      border: none;\n",
              "      border-radius: 50%;\n",
              "      cursor: pointer;\n",
              "      display: none;\n",
              "      fill: #1967D2;\n",
              "      height: 32px;\n",
              "      padding: 0 0 0 0;\n",
              "      width: 32px;\n",
              "    }\n",
              "\n",
              "    .colab-df-convert:hover {\n",
              "      background-color: #E2EBFA;\n",
              "      box-shadow: 0px 1px 2px rgba(60, 64, 67, 0.3), 0px 1px 3px 1px rgba(60, 64, 67, 0.15);\n",
              "      fill: #174EA6;\n",
              "    }\n",
              "\n",
              "    .colab-df-buttons div {\n",
              "      margin-bottom: 4px;\n",
              "    }\n",
              "\n",
              "    [theme=dark] .colab-df-convert {\n",
              "      background-color: #3B4455;\n",
              "      fill: #D2E3FC;\n",
              "    }\n",
              "\n",
              "    [theme=dark] .colab-df-convert:hover {\n",
              "      background-color: #434B5C;\n",
              "      box-shadow: 0px 1px 3px 1px rgba(0, 0, 0, 0.15);\n",
              "      filter: drop-shadow(0px 1px 2px rgba(0, 0, 0, 0.3));\n",
              "      fill: #FFFFFF;\n",
              "    }\n",
              "  </style>\n",
              "\n",
              "    <script>\n",
              "      const buttonEl =\n",
              "        document.querySelector('#df-fc739064-eb19-4a77-9e98-88b9fb507c13 button.colab-df-convert');\n",
              "      buttonEl.style.display =\n",
              "        google.colab.kernel.accessAllowed ? 'block' : 'none';\n",
              "\n",
              "      async function convertToInteractive(key) {\n",
              "        const element = document.querySelector('#df-fc739064-eb19-4a77-9e98-88b9fb507c13');\n",
              "        const dataTable =\n",
              "          await google.colab.kernel.invokeFunction('convertToInteractive',\n",
              "                                                    [key], {});\n",
              "        if (!dataTable) return;\n",
              "\n",
              "        const docLinkHtml = 'Like what you see? Visit the ' +\n",
              "          '<a target=\"_blank\" href=https://colab.research.google.com/notebooks/data_table.ipynb>data table notebook</a>'\n",
              "          + ' to learn more about interactive tables.';\n",
              "        element.innerHTML = '';\n",
              "        dataTable['output_type'] = 'display_data';\n",
              "        await google.colab.output.renderOutput(dataTable, element);\n",
              "        const docLink = document.createElement('div');\n",
              "        docLink.innerHTML = docLinkHtml;\n",
              "        element.appendChild(docLink);\n",
              "      }\n",
              "    </script>\n",
              "  </div>\n",
              "\n",
              "\n",
              "    <div id=\"df-651cc01b-4698-441c-a75d-f2b4f97ceab6\">\n",
              "      <button class=\"colab-df-quickchart\" onclick=\"quickchart('df-651cc01b-4698-441c-a75d-f2b4f97ceab6')\"\n",
              "                title=\"Suggest charts\"\n",
              "                style=\"display:none;\">\n",
              "\n",
              "<svg xmlns=\"http://www.w3.org/2000/svg\" height=\"24px\"viewBox=\"0 0 24 24\"\n",
              "     width=\"24px\">\n",
              "    <g>\n",
              "        <path d=\"M19 3H5c-1.1 0-2 .9-2 2v14c0 1.1.9 2 2 2h14c1.1 0 2-.9 2-2V5c0-1.1-.9-2-2-2zM9 17H7v-7h2v7zm4 0h-2V7h2v10zm4 0h-2v-4h2v4z\"/>\n",
              "    </g>\n",
              "</svg>\n",
              "      </button>\n",
              "\n",
              "<style>\n",
              "  .colab-df-quickchart {\n",
              "      --bg-color: #E8F0FE;\n",
              "      --fill-color: #1967D2;\n",
              "      --hover-bg-color: #E2EBFA;\n",
              "      --hover-fill-color: #174EA6;\n",
              "      --disabled-fill-color: #AAA;\n",
              "      --disabled-bg-color: #DDD;\n",
              "  }\n",
              "\n",
              "  [theme=dark] .colab-df-quickchart {\n",
              "      --bg-color: #3B4455;\n",
              "      --fill-color: #D2E3FC;\n",
              "      --hover-bg-color: #434B5C;\n",
              "      --hover-fill-color: #FFFFFF;\n",
              "      --disabled-bg-color: #3B4455;\n",
              "      --disabled-fill-color: #666;\n",
              "  }\n",
              "\n",
              "  .colab-df-quickchart {\n",
              "    background-color: var(--bg-color);\n",
              "    border: none;\n",
              "    border-radius: 50%;\n",
              "    cursor: pointer;\n",
              "    display: none;\n",
              "    fill: var(--fill-color);\n",
              "    height: 32px;\n",
              "    padding: 0;\n",
              "    width: 32px;\n",
              "  }\n",
              "\n",
              "  .colab-df-quickchart:hover {\n",
              "    background-color: var(--hover-bg-color);\n",
              "    box-shadow: 0 1px 2px rgba(60, 64, 67, 0.3), 0 1px 3px 1px rgba(60, 64, 67, 0.15);\n",
              "    fill: var(--button-hover-fill-color);\n",
              "  }\n",
              "\n",
              "  .colab-df-quickchart-complete:disabled,\n",
              "  .colab-df-quickchart-complete:disabled:hover {\n",
              "    background-color: var(--disabled-bg-color);\n",
              "    fill: var(--disabled-fill-color);\n",
              "    box-shadow: none;\n",
              "  }\n",
              "\n",
              "  .colab-df-spinner {\n",
              "    border: 2px solid var(--fill-color);\n",
              "    border-color: transparent;\n",
              "    border-bottom-color: var(--fill-color);\n",
              "    animation:\n",
              "      spin 1s steps(1) infinite;\n",
              "  }\n",
              "\n",
              "  @keyframes spin {\n",
              "    0% {\n",
              "      border-color: transparent;\n",
              "      border-bottom-color: var(--fill-color);\n",
              "      border-left-color: var(--fill-color);\n",
              "    }\n",
              "    20% {\n",
              "      border-color: transparent;\n",
              "      border-left-color: var(--fill-color);\n",
              "      border-top-color: var(--fill-color);\n",
              "    }\n",
              "    30% {\n",
              "      border-color: transparent;\n",
              "      border-left-color: var(--fill-color);\n",
              "      border-top-color: var(--fill-color);\n",
              "      border-right-color: var(--fill-color);\n",
              "    }\n",
              "    40% {\n",
              "      border-color: transparent;\n",
              "      border-right-color: var(--fill-color);\n",
              "      border-top-color: var(--fill-color);\n",
              "    }\n",
              "    60% {\n",
              "      border-color: transparent;\n",
              "      border-right-color: var(--fill-color);\n",
              "    }\n",
              "    80% {\n",
              "      border-color: transparent;\n",
              "      border-right-color: var(--fill-color);\n",
              "      border-bottom-color: var(--fill-color);\n",
              "    }\n",
              "    90% {\n",
              "      border-color: transparent;\n",
              "      border-bottom-color: var(--fill-color);\n",
              "    }\n",
              "  }\n",
              "</style>\n",
              "\n",
              "      <script>\n",
              "        async function quickchart(key) {\n",
              "          const quickchartButtonEl =\n",
              "            document.querySelector('#' + key + ' button');\n",
              "          quickchartButtonEl.disabled = true;  // To prevent multiple clicks.\n",
              "          quickchartButtonEl.classList.add('colab-df-spinner');\n",
              "          try {\n",
              "            const charts = await google.colab.kernel.invokeFunction(\n",
              "                'suggestCharts', [key], {});\n",
              "          } catch (error) {\n",
              "            console.error('Error during call to suggestCharts:', error);\n",
              "          }\n",
              "          quickchartButtonEl.classList.remove('colab-df-spinner');\n",
              "          quickchartButtonEl.classList.add('colab-df-quickchart-complete');\n",
              "        }\n",
              "        (() => {\n",
              "          let quickchartButtonEl =\n",
              "            document.querySelector('#df-651cc01b-4698-441c-a75d-f2b4f97ceab6 button');\n",
              "          quickchartButtonEl.style.display =\n",
              "            google.colab.kernel.accessAllowed ? 'block' : 'none';\n",
              "        })();\n",
              "      </script>\n",
              "    </div>\n",
              "\n",
              "    </div>\n",
              "  </div>\n"
            ],
            "application/vnd.google.colaboratory.intrinsic+json": {
              "type": "dataframe",
              "summary": "{\n  \"name\": \"df\",\n  \"rows\": 5,\n  \"fields\": [\n    {\n      \"column\": \"count\",\n      \"properties\": {\n        \"dtype\": \"number\",\n        \"std\": 0.0,\n        \"min\": 1001.0,\n        \"max\": 1001.0,\n        \"num_unique_values\": 1,\n        \"samples\": [\n          1001.0\n        ],\n        \"semantic_type\": \"\",\n        \"description\": \"\"\n      }\n    },\n    {\n      \"column\": \"mean\",\n      \"properties\": {\n        \"dtype\": \"number\",\n        \"std\": 7814931925.152744,\n        \"min\": 3.94005994005994,\n        \"max\": 17474719280.71928,\n        \"num_unique_values\": 5,\n        \"samples\": [\n          530.5044955044955\n        ],\n        \"semantic_type\": \"\",\n        \"description\": \"\"\n      }\n    },\n    {\n      \"column\": \"std\",\n      \"properties\": {\n        \"dtype\": \"number\",\n        \"std\": 9300022236.970295,\n        \"min\": 1.9032613053397565,\n        \"max\": 20795482161.087704,\n        \"num_unique_values\": 5,\n        \"samples\": [\n          531.0697734100189\n        ],\n        \"semantic_type\": \"\",\n        \"description\": \"\"\n      }\n    },\n    {\n      \"column\": \"min\",\n      \"properties\": {\n        \"dtype\": \"number\",\n        \"std\": 192301839.13317183,\n        \"min\": 1.0,\n        \"max\": 430000000.0,\n        \"num_unique_values\": 4,\n        \"samples\": [\n          22.0\n        ],\n        \"semantic_type\": \"\",\n        \"description\": \"\"\n      }\n    },\n    {\n      \"column\": \"25%\",\n      \"properties\": {\n        \"dtype\": \"number\",\n        \"std\": 3018691710.704328,\n        \"min\": 3.0,\n        \"max\": 6750000000.0,\n        \"num_unique_values\": 5,\n        \"samples\": [\n          220.0\n        ],\n        \"semantic_type\": \"\",\n        \"description\": \"\"\n      }\n    },\n    {\n      \"column\": \"50%\",\n      \"properties\": {\n        \"dtype\": \"number\",\n        \"std\": 6037383447.682452,\n        \"min\": 4.0,\n        \"max\": 13500000000.0,\n        \"num_unique_values\": 4,\n        \"samples\": [\n          400.0\n        ],\n        \"semantic_type\": \"\",\n        \"description\": \"\"\n      }\n    },\n    {\n      \"column\": \"75%\",\n      \"properties\": {\n        \"dtype\": \"number\",\n        \"std\": 8944271766.219994,\n        \"min\": 4.0,\n        \"max\": 20000000000.0,\n        \"num_unique_values\": 5,\n        \"samples\": [\n          677.0\n        ],\n        \"semantic_type\": \"\",\n        \"description\": \"\"\n      }\n    },\n    {\n      \"column\": \"max\",\n      \"properties\": {\n        \"dtype\": \"number\",\n        \"std\": 111803396991.77312,\n        \"min\": 27.0,\n        \"max\": 250000000000.0,\n        \"num_unique_values\": 4,\n        \"samples\": [\n          6790.0\n        ],\n        \"semantic_type\": \"\",\n        \"description\": \"\"\n      }\n    }\n  ]\n}"
            }
          },
          "metadata": {},
          "execution_count": 1246
        }
      ]
    },
    {
      "cell_type": "code",
      "source": [
        "# Memeriksa data duplikat\n",
        "print(f'Jumlah data duplikat :  {df.duplicated().sum()}')\n",
        "print(f'Jumlah baris sebelum menghapus duplikat: {len(df)}')\n",
        "\n",
        "# Menghapus data dupliksa\n",
        "df = df.drop_duplicates().reset_index(drop=True)\n",
        "\n",
        "# Memverifikasi setelah penanganan\n",
        "print(f'Jumlah baris setelah menghapus duplikat : {len(df)}')"
      ],
      "metadata": {
        "colab": {
          "base_uri": "https://localhost:8080/"
        },
        "id": "eABZt6Wnoxqx",
        "outputId": "578a3f0a-f92c-43ac-b608-e7690d0db81f"
      },
      "execution_count": 1247,
      "outputs": [
        {
          "output_type": "stream",
          "name": "stdout",
          "text": [
            "Jumlah data duplikat :  70\n",
            "Jumlah baris sebelum menghapus duplikat: 1001\n",
            "Jumlah baris setelah menghapus duplikat : 931\n"
          ]
        }
      ]
    },
    {
      "cell_type": "code",
      "source": [
        "# Memeriksa nilai yang hilang (missing values)\n",
        "df.isna().sum()"
      ],
      "metadata": {
        "colab": {
          "base_uri": "https://localhost:8080/",
          "height": 335
        },
        "id": "I6a1IMh4pHrx",
        "outputId": "af86322e-55d6-4276-867e-26c22c26eb41"
      },
      "execution_count": 1248,
      "outputs": [
        {
          "output_type": "execute_result",
          "data": {
            "text/plain": [
              "0\n",
              "HARGA    0\n",
              "LT       0\n",
              "LB       0\n",
              "JKT      0\n",
              "JKM      0\n",
              "GRS      0\n",
              "KOTA     0\n",
              "dtype: int64"
            ],
            "text/html": [
              "<div>\n",
              "<style scoped>\n",
              "    .dataframe tbody tr th:only-of-type {\n",
              "        vertical-align: middle;\n",
              "    }\n",
              "\n",
              "    .dataframe tbody tr th {\n",
              "        vertical-align: top;\n",
              "    }\n",
              "\n",
              "    .dataframe thead th {\n",
              "        text-align: right;\n",
              "    }\n",
              "</style>\n",
              "<table border=\"1\" class=\"dataframe\">\n",
              "  <thead>\n",
              "    <tr style=\"text-align: right;\">\n",
              "      <th></th>\n",
              "      <th>0</th>\n",
              "    </tr>\n",
              "    <tr>\n",
              "      <th>0</th>\n",
              "      <th></th>\n",
              "    </tr>\n",
              "  </thead>\n",
              "  <tbody>\n",
              "    <tr>\n",
              "      <th>HARGA</th>\n",
              "      <td>0</td>\n",
              "    </tr>\n",
              "    <tr>\n",
              "      <th>LT</th>\n",
              "      <td>0</td>\n",
              "    </tr>\n",
              "    <tr>\n",
              "      <th>LB</th>\n",
              "      <td>0</td>\n",
              "    </tr>\n",
              "    <tr>\n",
              "      <th>JKT</th>\n",
              "      <td>0</td>\n",
              "    </tr>\n",
              "    <tr>\n",
              "      <th>JKM</th>\n",
              "      <td>0</td>\n",
              "    </tr>\n",
              "    <tr>\n",
              "      <th>GRS</th>\n",
              "      <td>0</td>\n",
              "    </tr>\n",
              "    <tr>\n",
              "      <th>KOTA</th>\n",
              "      <td>0</td>\n",
              "    </tr>\n",
              "  </tbody>\n",
              "</table>\n",
              "</div><br><label><b>dtype:</b> int64</label>"
            ]
          },
          "metadata": {},
          "execution_count": 1248
        }
      ]
    },
    {
      "cell_type": "code",
      "source": [
        "def visualisasi_histogram(df):\n",
        "  # Dapetin kolom numerik\n",
        "  col_num = df.select_dtypes(include='number').columns\n",
        "  print(f\"Kolom Numerik Berupa :  {col_num}\")\n",
        "\n",
        "  # Visualisasi distribusi menggunakan histogram\n",
        "  print(\"\\nVisualisasi Distribusi Setiap Fitur:\")\n",
        "  for column in col_num:\n",
        "    plt.figure(figsize=(10, 5))\n",
        "    sns.histplot(data=df, x=column, kde=True)\n",
        "    plt.title(f'Distribusi Kolom {column}', fontweight='bold', fontsize=15)\n",
        "    plt.xlabel(f'Nilai {column}')\n",
        "    plt.ylabel(f'Frekuensi')\n",
        "    plt.grid(True)\n",
        "visualisasi_histogram(df)"
      ],
      "metadata": {
        "colab": {
          "base_uri": "https://localhost:8080/"
        },
        "id": "tWMnQCyrpJ8q",
        "outputId": "f4d98d16-6e86-4b0c-d915-ba8010704ecd"
      },
      "execution_count": null,
      "outputs": [
        {
          "output_type": "stream",
          "name": "stdout",
          "text": [
            "Kolom Numerik Berupa :  Index(['HARGA', 'LT', 'LB', 'JKT', 'JKM'], dtype='object', name=0)\n",
            "\n",
            "Visualisasi Distribusi Setiap Fitur:\n"
          ]
        }
      ]
    },
    {
      "cell_type": "code",
      "source": [
        "def visualisasi_scatter(df):\n",
        "  # Dapetin kolom numerik\n",
        "  col_num = df.select_dtypes(include='number').columns\n",
        "  print(f\"Kolom Numerik Berupa :  {col_num}\")\n",
        "\n",
        "  # Visualisasi scatterplot\n",
        "  print(\"\\nVisualisasi Scatterplot Setiap Fitur:\")\n",
        "  for column in col_num:\n",
        "    plt.figure(figsize=(10, 5))\n",
        "    # sns.histplot(data=df, x=column, kde=True)\n",
        "    sns.scatterplot(x=column, y=\"HARGA\", data=df)\n",
        "    plt.title(f'Scatterplot Kolom {column} dengan HARGA', fontweight='bold', fontsize=15)\n",
        "    plt.xlabel(f'{column}')\n",
        "    plt.ylabel(f'HARGA')\n",
        "    plt.grid(True)\n",
        "visualisasi_scatter(df)"
      ],
      "metadata": {
        "id": "ED3jd4zwUS8V"
      },
      "execution_count": null,
      "outputs": []
    },
    {
      "cell_type": "code",
      "source": [
        "# Mendapatkan col num\n",
        "col_num = df.select_dtypes(include='number').columns\n",
        "\n",
        "# Visualisasi boxplot\n",
        "print(\"\\nBoxplot untuk setiap fitur:\")\n",
        "# Mendapatkan kolom dan row untuk subplot\n",
        "num_columns = len(col_num)\n",
        "num_rows = (num_columns + 2) // 3  # Atur 3 kolom per baris\n",
        "\n",
        "# Kode visualisasi\n",
        "plt.figure(figsize=(20, 5 * num_rows))\n",
        "for i, column in enumerate(col_num):\n",
        "    plt.subplot(num_rows, 3, i + 1)\n",
        "    sns.boxplot(y=df[column], color='#2ecc71')\n",
        "    plt.title(f'Boxplot dari {column}', fontsize=14, fontweight='bold')\n",
        "    plt.ylabel('Nilai', fontsize=12)\n",
        "    plt.grid(True, linestyle='--', alpha=0.7)\n",
        "\n",
        "plt.tight_layout()\n",
        "plt.show()"
      ],
      "metadata": {
        "id": "861R46YHpgsD"
      },
      "execution_count": null,
      "outputs": []
    },
    {
      "cell_type": "code",
      "source": [
        "# Korelasi menggunakan heatmap\n",
        "plt.figure(figsize=(12, 10))\n",
        "sns.heatmap(df.corr(numeric_only=True), annot=True, cmap='coolwarm', fmt='.2f')\n",
        "plt.title('Heatmap korelasi antar Fitur', fontsize=20, fontweight='bold')\n",
        "plt.show()"
      ],
      "metadata": {
        "id": "kuZNagdwqcgn"
      },
      "execution_count": null,
      "outputs": []
    },
    {
      "cell_type": "markdown",
      "source": [
        "## **Data Preprocessing**"
      ],
      "metadata": {
        "id": "vNqzu_g8uazd"
      }
    },
    {
      "cell_type": "code",
      "source": [
        "# Menambah kolom baru karena lb dan lt jika dikalikan terlihat seperti akan memberikan kolom yang bermakna\n",
        "df[\"Luas\"] = df['LB'] * df['LT']"
      ],
      "metadata": {
        "id": "qBnJ7KxAMJf0"
      },
      "execution_count": null,
      "outputs": []
    },
    {
      "cell_type": "code",
      "source": [
        "visualisasi_histogram(df[['Luas', 'HARGA']])\n",
        "visualisasi_scatter(df[['Luas', 'HARGA']])"
      ],
      "metadata": {
        "id": "HesHioerWA3j"
      },
      "execution_count": null,
      "outputs": []
    },
    {
      "cell_type": "code",
      "source": [
        "categorical_columns = df.select_dtypes(include=['object']).columns.tolist()\n",
        "encoder = OneHotEncoder(sparse_output=False)\n",
        "\n",
        "one_hot_encoded = encoder.fit_transform(df[categorical_columns])\n",
        "\n",
        "one_hot_df = pd.DataFrame(one_hot_encoded, columns=encoder.get_feature_names_out(categorical_columns))\n",
        "\n",
        "df = pd.concat([df, one_hot_df], axis=1)\n",
        "\n",
        "df = df.drop(categorical_columns, axis=1)\n",
        "print(f\"Data yang sudah di encoded : \\n{df}\")"
      ],
      "metadata": {
        "id": "IIByXFlFytBi"
      },
      "execution_count": null,
      "outputs": []
    },
    {
      "cell_type": "code",
      "source": [
        "# Melakukan log transformasi ke kolom yang masih distribusinya skewed\n",
        "df[[\"HARGA\", \"LT\", \"LB\", \"Luas\", \"JKM\", \"JKT\"]] = np.log(df[[\"HARGA\", \"LT\", \"LB\", \"Luas\", \"JKM\", \"JKT\"]])"
      ],
      "metadata": {
        "id": "oDVUdcoS2qtc"
      },
      "execution_count": null,
      "outputs": []
    },
    {
      "cell_type": "code",
      "source": [
        "# Liat visualisasi histogram setelah transformasi fitur\n",
        "visualisasi_histogram(df)"
      ],
      "metadata": {
        "id": "4EYJd1c0l29C"
      },
      "execution_count": null,
      "outputs": []
    },
    {
      "cell_type": "code",
      "source": [
        "# Liat visualisasi scatterplot setelah transformasi\n",
        "visualisasi_scatter(df)"
      ],
      "metadata": {
        "id": "HgfrtNEzmipF"
      },
      "execution_count": null,
      "outputs": []
    },
    {
      "cell_type": "code",
      "source": [
        "# # JKM dan JKT tidak terlihat linear jadi kita transformasi\n",
        "# df['JKM'] = np.log((df['JKM'])**5)\n",
        "# df['JKT'] = np.log((df['JKT'])**5)\n",
        "\n",
        "# # Liat hasil plot setelah transformasi\n",
        "# visualisasi_scatter(df[[\"JKT\", \"JKM\",\"HARGA\"]])"
      ],
      "metadata": {
        "id": "_uWN-HpZnQNQ"
      },
      "execution_count": null,
      "outputs": []
    },
    {
      "cell_type": "code",
      "source": [
        "# # JKM dan JKT tidak terlihat linear jadi kita transformasi\n",
        "# df['JKM'] = np.log(df['JKM'])\n",
        "# df['JKT'] = np.log(df['JKT'])\n",
        "\n",
        "# # Liat hasil plot setelah transformasi\n",
        "# visualisasi_scatter(df[[\"JKT\", \"JKM\", \"HARGA\"]])"
      ],
      "metadata": {
        "id": "pZJIjNSfqQMY"
      },
      "execution_count": null,
      "outputs": []
    },
    {
      "cell_type": "code",
      "source": [
        "# # Drop kolom NO karena tidak berguna\n",
        "# df = df.drop('NO', axis=1)"
      ],
      "metadata": {
        "id": "EIUyrW-WsSef"
      },
      "execution_count": null,
      "outputs": []
    },
    {
      "cell_type": "code",
      "source": [
        "# Split the data into features (X) and target (y)\n",
        "X = df.drop('HARGA', axis=1)\n",
        "y = df['HARGA']\n",
        "\n",
        "# Split the data into training and test sets\n",
        "X_train, X_test, y_train, y_test = train_test_split(X, y, test_size=0.2)\n",
        "\n",
        "# Untuk validatin sets\n",
        "# X_test, X_val, y_test, y_val = train_test_split(X_test, y_test, test_size=0.25, random_state=1) # 0.25 x 0.8 = 0.2\n",
        "X_train, X_val, y_train, y_val = train_test_split(X_train, y_train, test_size=0.25, random_state=1) # 0.25 x 0.8 = 0.2"
      ],
      "metadata": {
        "id": "ZaVvmpXGufI5"
      },
      "execution_count": null,
      "outputs": []
    },
    {
      "cell_type": "code",
      "source": [
        "# Melihat yang semua kolom outlier\n",
        "filt = ((X_train[[\"LT\", \"LB\", \"JKT\",\"JKM\"]] <= 3) & (X_train[[\"LT\", \"LB\", \"JKT\",\"JKM\"]] >= -3)).all(axis=1).value_counts()\n",
        "filt"
      ],
      "metadata": {
        "id": "F50PiY8xvIxn"
      },
      "execution_count": null,
      "outputs": []
    },
    {
      "cell_type": "code",
      "source": [
        "# Normalisasi\n",
        "scaler = StandardScaler()\n",
        "scaler.fit(X_train)\n",
        "X_train = scaler.transform(X_train)\n",
        "X_test = scaler.transform(X_test)\n",
        "X_val = scaler.transform(X_val)"
      ],
      "metadata": {
        "id": "hFMQjKHWxbZd"
      },
      "execution_count": null,
      "outputs": []
    },
    {
      "cell_type": "markdown",
      "source": [
        "## **Modeling**"
      ],
      "metadata": {
        "id": "QDV0MWWszI_N"
      }
    },
    {
      "cell_type": "code",
      "source": [
        "# Ngebuat parameter distribusi\n",
        "param_dist = {'n_neighbors': list(range(1,10)),}\n",
        "\n",
        "# Buat model\n",
        "knn = KNeighborsRegressor()\n",
        "\n",
        "# Menggunakan gridsearch untuk mencari param terbaik\n",
        "grid_sc = GridSearchCV(knn,\n",
        "                       param_grid = param_dist,\n",
        "                       n_jobs=-1,\n",
        "                       verbose=3,\n",
        "                       cv=5)\n",
        "\n",
        "# Fit gridsearch ke data\n",
        "grid_sc.fit(X_train, y_train)\n",
        "\n",
        "# Get the best parameters and score\n",
        "print(\"Parameters Terbaik: \", grid_sc.best_params_)\n",
        "print(\"Cross-validation score terbaik: \", grid_sc.best_score_)\n",
        "\n",
        "# Model paling baik\n",
        "knn = grid_sc.best_estimator_"
      ],
      "metadata": {
        "id": "k1GFoYPgykkq"
      },
      "execution_count": null,
      "outputs": []
    },
    {
      "cell_type": "markdown",
      "source": [
        "## **NO 2**"
      ],
      "metadata": {
        "id": "zNblBCcBzpsv"
      }
    },
    {
      "cell_type": "code",
      "source": [
        "# Prediksi Validation sets\n",
        "y_pred = knn.predict(X_val)\n",
        "\n",
        "# Menghitung Performa\n",
        "mae = mean_absolute_error(y_val, y_pred)\n",
        "r2 = r2_score(y_val, y_pred)\n",
        "rmse = np.sqrt(np.mean(np.square((y_pred - y_val))))\n",
        "print(\"Evaluasi Model KNN pada Validation Set\")\n",
        "print(\"-\" * 40)\n",
        "print(f\"MAE dari model KNN adalah : {mae}\")\n",
        "print(f\"RMSE dari model KNN adalah : {rmse}\")\n",
        "print(f\"R^2 dari model KNN adalah : {r2}\")"
      ],
      "metadata": {
        "id": "qNu_2PI80Pbh"
      },
      "execution_count": null,
      "outputs": []
    },
    {
      "cell_type": "code",
      "source": [
        "# Prediksi\n",
        "y_pred = knn.predict(X_test)\n",
        "\n",
        "# Menghitung Performa\n",
        "mae = mean_absolute_error(y_test, y_pred)\n",
        "r2 = r2_score(y_test, y_pred)\n",
        "rmse = np.sqrt(np.mean(np.square((y_pred - y_test))))\n",
        "print(\"Evaluasi Model KNN pada Testing Set\")\n",
        "print(\"-\" * 40)\n",
        "print(f\"MAE dari model KNN adalah : {mae}\")\n",
        "print(f\"RMSE dari model KNN adalah : {rmse}\")\n",
        "print(f\"R^2 dari model KNN adalah : {r2}\")"
      ],
      "metadata": {
        "id": "-ofAo3srzXJM"
      },
      "execution_count": null,
      "outputs": []
    },
    {
      "cell_type": "markdown",
      "source": [
        "## **NO 3**"
      ],
      "metadata": {
        "id": "bfMjXlGWSdHi"
      }
    },
    {
      "cell_type": "markdown",
      "source": [
        "## **LINEAR REGRESI**"
      ],
      "metadata": {
        "id": "bh2ECIyOSgKB"
      }
    },
    {
      "cell_type": "markdown",
      "source": [
        "**SEDERHANA**"
      ],
      "metadata": {
        "id": "11a0jNySVIbR"
      }
    },
    {
      "cell_type": "code",
      "source": [
        "# Sederhana fitur x nya hanya 1 kolom\n",
        "# Split the data ke fitur (X) dan target (y)\n",
        "X = df[['LT']]\n",
        "y = df['HARGA']\n",
        "\n",
        "# Split data ke training set dan testing set\n",
        "X_train, X_test, y_train, y_test = train_test_split(X, y, test_size=0.2)\n",
        "# Untuk validatin sets\n",
        "# X_test, X_val, y_test, y_val = train_test_split(X_test, y_test, test_size=0.25, random_state=1) # 0.25 x 0.8 = 0.2\n",
        "X_train, X_val, y_train, y_val = train_test_split(X_train, y_train, test_size=0.25, random_state=1) # 0.25 x 0.8 = 0.2\n",
        "\n",
        "# Normalisasi\n",
        "scaler = StandardScaler()\n",
        "scaler.fit(X_train)\n",
        "X_train = scaler.transform(X_train)\n",
        "X_test = scaler.transform(X_test)\n",
        "X_val = scaler.transform(X_val)"
      ],
      "metadata": {
        "id": "hGCHYCcDVNEA"
      },
      "execution_count": null,
      "outputs": []
    },
    {
      "cell_type": "code",
      "source": [
        "# Membuat parameter distribusi\n",
        "param_dist = {'fit_intercept': [True, False]}\n",
        "\n",
        "# Buat model Linear Regression\n",
        "lin_reg = LinearRegression()\n",
        "\n",
        "# GridSearch untuk mencari parameter terbaik\n",
        "grid_sc = GridSearchCV(lin_reg,\n",
        "                       param_grid=param_dist,\n",
        "                       n_jobs=-1,\n",
        "                       verbose=3,\n",
        "                       cv=5)\n",
        "\n",
        "# Fit ke data\n",
        "grid_sc.fit(X_train, y_train)\n",
        "\n",
        "# Tampilkan hasil\n",
        "print(\"Parameters Terbaik: \", grid_sc.best_params_)\n",
        "print(\"Cross-validation score terbaik: \", grid_sc.best_score_)\n",
        "\n",
        "# Model terbaik\n",
        "lin_reg = grid_sc.best_estimator_"
      ],
      "metadata": {
        "id": "x-6T0IvfVH8W"
      },
      "execution_count": null,
      "outputs": []
    },
    {
      "cell_type": "code",
      "source": [
        "# Prediksi Validation sets\n",
        "y_pred = lin_reg.predict(X_val)\n",
        "\n",
        "# Menghitung Performa\n",
        "mae = mean_absolute_error(y_val, y_pred)\n",
        "r2 = r2_score(y_val, y_pred)\n",
        "rmse = np.sqrt(np.mean(np.square((y_pred - y_val))))\n",
        "print(\"Evaluasi Model Linear Regression (Sederhana) pada Validation Set\")\n",
        "print(\"-\" * 80)\n",
        "print(f\"MAE dari model Linear Regression (Sederhana) adalah : {mae}\")\n",
        "print(f\"RMSE dari model Linear Regression (Sederhana) adalah : {rmse}\")\n",
        "print(f\"R^2 dari model Linear Regression (Sederhana) adalah : {r2}\")"
      ],
      "metadata": {
        "id": "XZ5dMmgV2UIC"
      },
      "execution_count": null,
      "outputs": []
    },
    {
      "cell_type": "code",
      "source": [
        "# Prediksi Testing set\n",
        "y_pred = lin_reg.predict(X_test)\n",
        "\n",
        "# Menghitung Performa\n",
        "mae = mean_absolute_error(y_test, y_pred)\n",
        "r2 = r2_score(y_test, y_pred)\n",
        "rmse = np.sqrt(np.mean(np.square((y_pred - y_test))))\n",
        "print(\"Evaluasi Model Linear Regression (Sederhana) pada Testing Set\")\n",
        "print(\"-\" * 80)\n",
        "print(f\"MAE dari model Linear Regression (Sederhana) adalah : {mae}\")\n",
        "print(f\"RMSE dari model Linear Regression (Sederhana) adalah : {rmse}\")\n",
        "print(f\"R^2 dari model Linear Regression (Sederhana) adalah : {r2}\")"
      ],
      "metadata": {
        "id": "8L07r9hxVH8X"
      },
      "execution_count": null,
      "outputs": []
    },
    {
      "cell_type": "markdown",
      "source": [
        "**BERGANDA**"
      ],
      "metadata": {
        "id": "WNW9AQ0SVEL8"
      }
    },
    {
      "cell_type": "code",
      "source": [
        "# Split the data ke fitur (X) dan target (y)\n",
        "X = df.drop('HARGA', axis=1)\n",
        "y = df['HARGA']\n",
        "\n",
        "# Split data ke training set dan testing set\n",
        "X_train, X_test, y_train, y_test = train_test_split(X, y, test_size=0.2)\n",
        "# X_test, X_val, y_test, y_val = train_test_split(X_test, y_test, test_size=0.25, random_state=1) # 0.25 x 0.8 = 0.2\n",
        "X_train, X_val, y_train, y_val = train_test_split(X_train, y_train, test_size=0.25, random_state=1) # 0.25 x 0.8 = 0.2\n",
        "\n",
        "# Normalisasi\n",
        "scaler = StandardScaler()\n",
        "scaler.fit(X_train)\n",
        "X_train = scaler.transform(X_train)\n",
        "X_test = scaler.transform(X_test)\n",
        "X_val = scaler.transform(X_val)"
      ],
      "metadata": {
        "id": "oPhrYMUEVo86"
      },
      "execution_count": null,
      "outputs": []
    },
    {
      "cell_type": "code",
      "source": [
        "# Membuat parameter distribusi\n",
        "param_dist = {'fit_intercept': [True, False]}\n",
        "\n",
        "# Buat model Linear Regression\n",
        "lin_reg = LinearRegression()\n",
        "\n",
        "# GridSearch untuk mencari parameter terbaik\n",
        "grid_sc = GridSearchCV(lin_reg,\n",
        "                       param_grid=param_dist,\n",
        "                       n_jobs=-1,\n",
        "                       verbose=3,\n",
        "                       cv=5)\n",
        "\n",
        "# Fit ke data\n",
        "grid_sc.fit(X_train, y_train)\n",
        "\n",
        "# Tampilkan hasil\n",
        "print(\"Parameters Terbaik: \", grid_sc.best_params_)\n",
        "print(\"Cross-validation score terbaik: \", grid_sc.best_score_)\n",
        "\n",
        "# Model terbaik\n",
        "lin_reg = grid_sc.best_estimator_"
      ],
      "metadata": {
        "id": "yB-uT_vjSGiT"
      },
      "execution_count": null,
      "outputs": []
    },
    {
      "cell_type": "code",
      "source": [
        "# Prediksi Validation set\n",
        "y_pred = lin_reg.predict(X_val)\n",
        "\n",
        "# Menghitung Performa\n",
        "mae = mean_absolute_error(y_val, y_pred)\n",
        "r2 = r2_score(y_val, y_pred)\n",
        "rmse = np.sqrt(np.mean(np.square((y_pred - y_val))))\n",
        "print(\"Evaluasi Model Linear Regression (Berganda) pada Validation Set\")\n",
        "print(\"-\" * 80)\n",
        "print(f\"MAE dari model Linear Regression (Berganda) adalah : {mae}\")\n",
        "print(f\"RMSE dari model Linear Regression (Berganda) adalah : {rmse}\")\n",
        "print(f\"R^2 dari model Linear Regression (Berganda) adalah : {r2}\")"
      ],
      "metadata": {
        "id": "h0dHWCAzvvmd"
      },
      "execution_count": null,
      "outputs": []
    },
    {
      "cell_type": "code",
      "source": [
        "# Prediksi Testing set\n",
        "y_pred = lin_reg.predict(X_test)\n",
        "\n",
        "# Menghitung Performa\n",
        "mae = mean_absolute_error(y_test, y_pred)\n",
        "r2 = r2_score(y_test, y_pred)\n",
        "rmse = np.sqrt(np.mean(np.square((y_pred - y_test))))\n",
        "print(\"Evaluasi Model Linear Regression (Berganda) pada Validation Set\")\n",
        "print(\"-\" * 80)\n",
        "print(f\"MAE dari model Linear Regression (Berganda) adalah : {mae}\")\n",
        "print(f\"RMSE dari model Linear Regression (Berganda) adalah : {rmse}\")\n",
        "print(f\"R^2 dari model Linear Regression (Berganda) adalah : {r2}\")"
      ],
      "metadata": {
        "id": "rRUnLgOuSj5z"
      },
      "execution_count": null,
      "outputs": []
    },
    {
      "cell_type": "markdown",
      "source": [
        "## **Decision Tree**"
      ],
      "metadata": {
        "id": "cMdp0LJ_S3kY"
      }
    },
    {
      "cell_type": "code",
      "source": [
        "# Membuat distribusi parameter yang ingin diuji\n",
        "param_dist = {\n",
        "    'max_depth': [None, 3, 5, 10, 20],\n",
        "    'min_samples_split': [2, 5, 10],\n",
        "    'min_samples_leaf': [1, 2, 4]\n",
        "}\n",
        "\n",
        "# Inisiasi model Decision Tree\n",
        "dec_tree = DecisionTreeRegressor(random_state=42)\n",
        "\n",
        "# GridSearchCV untuk mencari parameter terbaik\n",
        "grid_sc = GridSearchCV(dec_tree,\n",
        "                       param_grid=param_dist,\n",
        "                       n_jobs=-1,\n",
        "                       verbose=3,\n",
        "                       cv=5)\n",
        "\n",
        "# Fit ke data training\n",
        "grid_sc.fit(X_train, y_train)\n",
        "\n",
        "# Tampilkan parameter terbaik dan skor validasi silang terbaik\n",
        "print(\"Parameters Terbaik: \", grid_sc.best_params_)\n",
        "print(\"Cross-validation score terbaik: \", grid_sc.best_score_)\n",
        "\n",
        "# Simpan model terbaik\n",
        "dec_tree = grid_sc.best_estimator_"
      ],
      "metadata": {
        "id": "Klw1gRBWSk9D"
      },
      "execution_count": null,
      "outputs": []
    },
    {
      "cell_type": "code",
      "source": [
        "# Prediksi Validation set\n",
        "y_pred = dec_tree.predict(X_val)\n",
        "\n",
        "# Menghitung Performa\n",
        "mae = mean_absolute_error(y_val, y_pred)\n",
        "r2 = r2_score(y_val, y_pred)\n",
        "rmse = np.sqrt(np.mean(np.square((y_pred - y_val))))\n",
        "print(\"Evaluasi Model Decision Tree pada Validation Set\")\n",
        "print(\"-\" * 80)\n",
        "print(f\"MAE dari model Decision Tree adalah : {mae}\")\n",
        "print(f\"RMSE dari model Decision Tree adalah : {rmse}\")\n",
        "print(f\"R^2 dari model Decision Tree adalah : {r2}\")"
      ],
      "metadata": {
        "id": "qM7RFoE-3RPI"
      },
      "execution_count": null,
      "outputs": []
    },
    {
      "cell_type": "code",
      "source": [
        "# Prediksi Testing\n",
        "y_pred = dec_tree.predict(X_test)\n",
        "\n",
        "# Menghitung Performa\n",
        "mae = mean_absolute_error(y_test, y_pred)\n",
        "r2 = r2_score(y_test, y_pred)\n",
        "rmse = np.sqrt(np.mean(np.square((y_pred - y_test))))\n",
        "print(\"Evaluasi Model Decision Tree pada Testing Set\")\n",
        "print(\"-\" * 70)\n",
        "print(f\"MAE dari model Decision Tree adalah : {mae}\")\n",
        "print(f\"RMSE dari model Decision Tree adalah : {rmse}\")\n",
        "print(f\"R^2 dari model Decision Tree adalah : {r2}\")"
      ],
      "metadata": {
        "id": "v3ylO-TZWRQi"
      },
      "execution_count": null,
      "outputs": []
    },
    {
      "cell_type": "markdown",
      "source": [
        "## **Random Forest**"
      ],
      "metadata": {
        "id": "-vFPi-oUXfBh"
      }
    },
    {
      "cell_type": "code",
      "source": [
        "# Buat parameter distribusi untuk dicoba\n",
        "param_dist = {\n",
        "    'n_estimators': [50, 100, 200],\n",
        "    'max_depth': [None, 10, 20],\n",
        "    'min_samples_split': [2, 5],\n",
        "    'min_samples_leaf': [1, 2]\n",
        "}\n",
        "\n",
        "# Inisiasi model Random Forest\n",
        "rf = RandomForestRegressor(random_state=42)\n",
        "\n",
        "# GridSearch untuk mencari parameter terbaik\n",
        "grid_sc = GridSearchCV(rf,\n",
        "                       param_grid=param_dist,\n",
        "                       n_jobs=-1,\n",
        "                       verbose=3,\n",
        "                       cv=5)\n",
        "\n",
        "# Fit ke data training\n",
        "grid_sc.fit(X_train, y_train)\n",
        "\n",
        "# Tampilkan parameter terbaik dan skor validasi silang terbaik\n",
        "print(\"Parameters Terbaik: \", grid_sc.best_params_)\n",
        "print(\"Cross-validation score terbaik: \", grid_sc.best_score_)\n",
        "\n",
        "# Simpan model terbaik\n",
        "rf = grid_sc.best_estimator_"
      ],
      "metadata": {
        "id": "PtXov2zvXQB-"
      },
      "execution_count": null,
      "outputs": []
    },
    {
      "cell_type": "code",
      "source": [
        "# Prediksi Validation set\n",
        "y_pred = rf.predict(X_val)\n",
        "\n",
        "# Menghitung Performa\n",
        "mae = mean_absolute_error(y_val, y_pred)\n",
        "r2 = r2_score(y_val, y_pred)\n",
        "rmse = np.sqrt(np.mean(np.square((y_pred - y_val))))\n",
        "print(\"Evaluasi Random Forest pada Validation Set\")\n",
        "print(\"-\" * 80)\n",
        "print(f\"MAE dari Random Forest adalah : {mae}\")\n",
        "print(f\"RMSE dari Random Forest adalah : {rmse}\")\n",
        "print(f\"R^2 dari Random Forest adalah : {r2}\")"
      ],
      "metadata": {
        "id": "svlC5IoAYAUi"
      },
      "execution_count": null,
      "outputs": []
    },
    {
      "cell_type": "code",
      "source": [
        "# Prediksi\n",
        "y_pred = rf.predict(X_test)\n",
        "\n",
        "# Menghitung Performa\n",
        "mae = mean_absolute_error(y_test, y_pred)\n",
        "r2 = r2_score(y_test, y_pred)\n",
        "rmse = np.sqrt(np.mean(np.square((y_pred - y_test))))\n",
        "print(f\"MAE dari model Random Forest adalah : {mae}\")\n",
        "print(f\"RMSE dari model Random Forest adalah : {rmse}\")\n",
        "print(f\"R^2 dari model Random Forest adalah : {r2}\")"
      ],
      "metadata": {
        "id": "w8bHqeOeX56x"
      },
      "execution_count": null,
      "outputs": []
    },
    {
      "cell_type": "code",
      "source": [],
      "metadata": {
        "id": "23qHtKFY3qEw"
      },
      "execution_count": null,
      "outputs": []
    }
  ]
}